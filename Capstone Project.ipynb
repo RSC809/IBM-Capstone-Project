{
 "cells": [
  {
   "cell_type": "markdown",
   "id": "088f7aa3",
   "metadata": {},
   "source": [
    "# Accessing_APIs"
   ]
  },
  {
   "cell_type": "markdown",
   "id": "86d053c5",
   "metadata": {},
   "source": [
    "## How to Get Data\n",
    "\n",
    "In the coming future data will increasingly be shared using Application Programming Interfaces (APIs).\n",
    "An API is hosted on the public internet or a private network. APIs provide anytime access to the latest data.\n",
    "\n",
    "## Your assignment is to get the number of job openings using the GitHub Jobs API for technologies like:\n",
    "\n",
    "Java\n",
    "Python\n",
    "MySQL\n",
    "C++\n",
    "C#\n",
    "GitHub Jobs API allows anyone to query for the jobs based upon:\n",
    "\n",
    "Technology like Python, MySQL\n",
    "City like New York, Bangalore\n",
    "Here are the technical details to access the API.\n",
    "\n",
    "The GitHub Jobs API allows you to search, and view jobs with JSON over HTTP.\n",
    "\n",
    "To get the JSON representation of any search result or job listing, append .json to the URL you'd use on the HTML GitHub Jobs site.\n",
    "\n",
    "For example, below url will search for Python jobs near New York:\n",
    "\n",
    "https://jobs.github.com/positions?description=python&location=new+york\n",
    "\n",
    "To get the JSON representation of those jobs, just use positions.json:\n",
    "\n",
    "https://jobs.github.com/positions.json?description=python&location=new+york\n",
    "\n",
    "## Pagination\n",
    "The API also supports pagination. /positions.json, for example, will only return 50 positions at a time. You can paginate results by adding a page parameter to your queries.\n",
    "\n",
    "Pagination starts by default at 0.\n",
    "\n",
    "Examples\n",
    "https://jobs.github.com/positions.json?description=ruby&page=1\n",
    "https://jobs.github.com/positions.json?page=1&search=code\n",
    "\n",
    "## GET /positions.json\n",
    "Search for jobs by term, location, full time vs part time, or any combination of the three. All parameters are optional.\n",
    "\n",
    "## Parameters\n",
    "description — A search term, such as \"ruby\" or \"java\". This parameter is aliased to search.\n",
    "location — A city name, zip code, or other location search term.\n",
    "lat — A specific latitude. If used, you must also send long and must not send location.\n",
    "long — A specific longitude. If used, you must also send lat and must not send location.\n",
    "full_time — If you want to limit results to full time positions set this parameter to 'true'.\n",
    "Examples\n",
    "https://jobs.github.com/positions.json?description=python&full_time=true&location=sf\n",
    "https://jobs.github.com/positions.json?search=node\n",
    "https://jobs.github.com/positions.json?lat=37.3229978&long=-122.0321823\n",
    "\n",
    "GET /positions/ID.json\n",
    "Retrieve the JSON representation of a single job posting.\n",
    "\n",
    "Parameters\n",
    "markdown — Set to 'true' to get the description and how_to_apply fields as Markdown.\n",
    "\n",
    "Examples\n",
    "https://jobs.github.com/positions/21516.json\n",
    "https://jobs.github.com/positions/21516.json?markdown=true"
   ]
  },
  {
   "cell_type": "markdown",
   "id": "9e6207a6",
   "metadata": {},
   "source": []
  }
 ],
 "metadata": {
  "kernelspec": {
   "display_name": "Python 3 (ipykernel)",
   "language": "python",
   "name": "python3"
  },
  "language_info": {
   "codemirror_mode": {
    "name": "ipython",
    "version": 3
   },
   "file_extension": ".py",
   "mimetype": "text/x-python",
   "name": "python",
   "nbconvert_exporter": "python",
   "pygments_lexer": "ipython3",
   "version": "3.9.13"
  }
 },
 "nbformat": 4,
 "nbformat_minor": 5
}
